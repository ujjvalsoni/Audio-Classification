{
 "cells": [
  {
   "cell_type": "code",
   "execution_count": 1,
   "metadata": {
    "collapsed": true
   },
   "outputs": [],
   "source": [
    "# We'll need numpy for some mathematical operations\n",
    "import numpy as np\n",
    "\n",
    "# and IPython.display for audio output\n",
    "from IPython.display import Audio\n",
    "\n",
    "# Librosa for audio\n",
    "import librosa"
   ]
  },
  {
   "cell_type": "code",
   "execution_count": 2,
   "metadata": {
    "collapsed": true
   },
   "outputs": [],
   "source": [
    "audio_path = librosa.util.example_audio_file()\n",
    "y, sr = librosa.load(\"C:/Users/Ujjval/Downloads/ESC-50-master/ESC-50-master/audio/1-7057-A-12.wav\")"
   ]
  },
  {
   "cell_type": "code",
   "execution_count": 3,
   "metadata": {
    "collapsed": true
   },
   "outputs": [],
   "source": [
    "#Compute the tempogram: local autocorrelation of the onset strength envelope\n",
    "f1 = librosa.feature.tempogram(y, sr=sr, onset_envelope=None, hop_length=512, win_length=384, center=True, window='hann')\n",
    "log_f1 = librosa.power_to_db(f1, ref=np.max)\n",
    "log_f1=pd.DataFrame(log_f1)\n",
    "log_f1.shape\n",
    "\n",
    "\n",
    "# Compute the zero-crossing rate of an audio time series.\n",
    "f2=librosa.feature.zero_crossing_rate(y, frame_length=2048, hop_length=512, center=True)\n",
    "log_f2 = librosa.power_to_db(f2, ref=np.max)\n",
    "# print (log_f2)\n",
    "\n",
    "\n",
    "# Computes the tonal centroid features (tonnetz), following the method of [R8787].\n",
    "f3=librosa.feature.tonnetz(y, sr=sr, chroma=None)\n",
    "log_f3 = librosa.power_to_db(f3, ref=np.max)\n",
    "# print (log_f3)\n",
    "\n",
    "\n",
    "# Get coefficients of fitting an nth-order polynomial to the columns of a spectrogram.\n",
    "f4=librosa.feature.poly_features(y, sr=sr, S=None, n_fft=2048, hop_length=512, order=1)\n",
    "log_f4 = librosa.power_to_db(f4, ref=np.max)\n",
    "# print (log_f4)\n",
    "\n",
    "\n",
    "# Compute a chromagram from a waveform or power spectrogram.\n",
    "f5 = librosa.feature.chroma_stft(y=y, sr=sr, S=None, n_fft=2048, hop_length=512, tuning=None)\n",
    "log_f5 = librosa.power_to_db(f5, ref=np.max)\n",
    "# print (log_f5)\n",
    "\n",
    "\n",
    "# Constant-Q chromagram.\n",
    "f6 = librosa.feature.chroma_cqt(y=y, sr=sr, C=None, hop_length=512, fmin=None, threshold=0.0, tuning=None, n_chroma=12, n_octaves=7, window=None, bins_per_octave=None, cqt_mode='full')\n",
    "log_f6 = librosa.power_to_db(f6, ref=np.max)\n",
    "# print (log_f6)\n",
    "\n",
    "\n",
    "# Computes the chroma variant “Chroma Energy Normalized” (CENS), following [R7777].\n",
    "f7 = librosa.feature.chroma_cens(y=y, sr=sr, C=None, hop_length=512, fmin=None, tuning=None, n_chroma=12, n_octaves=7, bins_per_octave=None, cqt_mode='full', window=None, norm=2, win_len_smooth=41)\n",
    "log_f7 = librosa.power_to_db(f7, ref=np.max)\n",
    "# print (log_f7)\n",
    "\n",
    "\n",
    "# Compute a mel-scaled spectrogram.\n",
    "f8 = librosa.feature.melspectrogram(y=y, sr=sr, S=None, n_fft=2048, hop_length=512, power=2.0)\n",
    "log_f8 = librosa.power_to_db(f8, ref=np.max)\n",
    "# print (log_f8)\n",
    "\n",
    "\n",
    "# Mel-frequency cepstral coefficients\n",
    "f9 = librosa.feature.mfcc(y=y, sr=sr, S=None, n_mfcc=20)\n",
    "log_f9 = librosa.power_to_db(f9, ref=np.max)\n",
    "# print (log_f9)\n",
    "\n",
    "\n",
    "# Compute root-mean-square (RMS) energy for each frame, either from the audio samples y or from a spectrogram S.\n",
    "f10 = librosa.feature.rmse(y=y, S=None, frame_length=2048, hop_length=512, center=True, pad_mode='reflect')\n",
    "log_f10 = librosa.power_to_db(f10, ref=np.max)\n",
    "# print (log_f10)\n",
    "\n",
    "\n",
    "# Compute the spectral centroid.\n",
    "f11 = librosa.feature.spectral_centroid(y=y, sr=sr, S=None, n_fft=2048, hop_length=512, freq=None)\n",
    "log_f11 = librosa.power_to_db(f11, ref=np.max)\n",
    "# print (log_f11)\n",
    "\n",
    "\n",
    "# Compute p’th-order spectral bandwidth:\n",
    "f12 = librosa.feature.spectral_bandwidth(y=y, sr=sr, S=None, n_fft=2048, hop_length=512, freq=None, centroid=None, norm=True, p=2)\n",
    "log_f12 = librosa.power_to_db(f12, ref=np.max)\n",
    "# print (log_f12)\n",
    "\n",
    "\n",
    "# Compute p’th-order spectral bandwidth:\n",
    "f13 = librosa.feature.spectral_contrast(y=y, sr=sr, S=None, n_fft=2048, hop_length=512, freq=None, fmin=200.0, n_bands=6, quantile=0.02, linear=False)\n",
    "log_f13 = librosa.power_to_db(f13, ref=np.max)\n",
    "# print (log_f13)\n",
    "\n",
    "\n",
    "# Compute spectral flatness.\n",
    "f14 = librosa.feature.spectral_flatness(y=y, S=None, n_fft=2048, hop_length=512, amin=1e-10, power=2.0)\n",
    "log_f14 = librosa.power_to_db(f14, ref=np.max)\n",
    "# print (log_f14)\n",
    "\n",
    "\n",
    "# Compute roll-off frequency\n",
    "f15 = librosa.feature.spectral_rolloff(y=y, sr=sr, S=None, n_fft=2048, hop_length=512, freq=None, roll_percent=0.85)\n",
    "log_f15 = librosa.power_to_db(f15, ref=np.max)\n",
    "# print (log_f15)\n",
    "\n",
    "\n",
    "# Get coefficients of fitting an nth-order polynomial to the columns of a spectrogram.\n",
    "f16 = librosa.feature.tempogram(y=y, sr=sr, onset_envelope=None, hop_length=512, win_length=384, center=True, window='hann')\n",
    "log_f16 = librosa.power_to_db(f16, ref=np.max)\n",
    "# print (log_f16)"
   ]
  },
  {
   "cell_type": "code",
   "execution_count": null,
   "metadata": {
    "collapsed": true
   },
   "outputs": [],
   "source": []
  }
 ],
 "metadata": {
  "kernelspec": {
   "display_name": "Python 3",
   "language": "python",
   "name": "python3"
  },
  "language_info": {
   "codemirror_mode": {
    "name": "ipython",
    "version": 3
   },
   "file_extension": ".py",
   "mimetype": "text/x-python",
   "name": "python",
   "nbconvert_exporter": "python",
   "pygments_lexer": "ipython3",
   "version": "3.6.3"
  }
 },
 "nbformat": 4,
 "nbformat_minor": 2
}
