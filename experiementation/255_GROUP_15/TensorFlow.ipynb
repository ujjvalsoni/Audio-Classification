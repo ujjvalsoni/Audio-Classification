{
 "cells": [
  {
   "cell_type": "code",
   "execution_count": 40,
   "metadata": {
    "collapsed": true
   },
   "outputs": [],
   "source": [
    "from __future__ import print_function\n",
    "import numpy as np\n",
    "import pandas as pd"
   ]
  },
  {
   "cell_type": "code",
   "execution_count": 41,
   "metadata": {},
   "outputs": [
    {
     "name": "stdout",
     "output_type": "stream",
     "text": [
      "22050\n"
     ]
    }
   ],
   "source": [
    "from IPython.display import Audio\n",
    "import librosa\n",
    "import librosa.display\n",
    "audio_path = librosa.util.example_audio_file()\n",
    "X, sr1 = librosa.load(\"/Users/uttara/documents/sjsu/Spring_2018/CMPE_255/Project_Git/PREPROCESSING/ESC-50-master/audio/1-7057-A-12.wav\")\n",
    "print (sr1)"
   ]
  },
  {
   "cell_type": "code",
   "execution_count": 42,
   "metadata": {
    "collapsed": true
   },
   "outputs": [],
   "source": [
    "def extract_feature():\n",
    "    stft = np.abs(librosa.stft(X))\n",
    "    mfccs = np.mean(librosa.feature.mfcc(y=X, sr=22050, n_mfcc=40).T,axis=0)\n",
    "    chroma = np.mean(librosa.feature.chroma_stft(S=stft, sr=22050).T,axis=0)\n",
    "    mel = np.mean(librosa.feature.melspectrogram(X, sr=22050).T,axis=0)\n",
    "    contrast = np.mean(librosa.feature.spectral_contrast(S=stft, sr=22050).T,axis=0)\n",
    "    tonnetz = np.mean(librosa.feature.tonnetz(y=librosa.effects.harmonic(X), sr=22050).T,axis=0)\n",
    "    return mfccs,chroma,mel,contrast,tonnetz"
   ]
  },
  {
   "cell_type": "code",
   "execution_count": 43,
   "metadata": {
    "collapsed": true
   },
   "outputs": [],
   "source": [
    "features= np.empty((0,193))"
   ]
  },
  {
   "cell_type": "code",
   "execution_count": 44,
   "metadata": {
    "collapsed": true
   },
   "outputs": [],
   "source": [
    "mfccs, chroma, mel, contrast,tonnetz = extract_feature()\n",
    "ext_features = np.hstack([mfccs,chroma,mel,contrast,tonnetz])"
   ]
  },
  {
   "cell_type": "code",
   "execution_count": 45,
   "metadata": {
    "collapsed": true
   },
   "outputs": [],
   "source": [
    "features = np.vstack([features,ext_features])"
   ]
  },
  {
   "cell_type": "code",
   "execution_count": 46,
   "metadata": {
    "collapsed": true
   },
   "outputs": [],
   "source": [
    "X_1=pd.DataFrame(features[0])"
   ]
  },
  {
   "cell_type": "code",
   "execution_count": 48,
   "metadata": {
    "collapsed": true
   },
   "outputs": [],
   "source": [
    "X_1=X_1.T"
   ]
  },
  {
   "cell_type": "code",
   "execution_count": 49,
   "metadata": {},
   "outputs": [
    {
     "data": {
      "text/html": [
       "<div>\n",
       "<style scoped>\n",
       "    .dataframe tbody tr th:only-of-type {\n",
       "        vertical-align: middle;\n",
       "    }\n",
       "\n",
       "    .dataframe tbody tr th {\n",
       "        vertical-align: top;\n",
       "    }\n",
       "\n",
       "    .dataframe thead th {\n",
       "        text-align: right;\n",
       "    }\n",
       "</style>\n",
       "<table border=\"1\" class=\"dataframe\">\n",
       "  <thead>\n",
       "    <tr style=\"text-align: right;\">\n",
       "      <th></th>\n",
       "      <th>0</th>\n",
       "      <th>1</th>\n",
       "      <th>2</th>\n",
       "      <th>3</th>\n",
       "      <th>4</th>\n",
       "      <th>5</th>\n",
       "      <th>6</th>\n",
       "      <th>7</th>\n",
       "      <th>8</th>\n",
       "      <th>9</th>\n",
       "      <th>...</th>\n",
       "      <th>183</th>\n",
       "      <th>184</th>\n",
       "      <th>185</th>\n",
       "      <th>186</th>\n",
       "      <th>187</th>\n",
       "      <th>188</th>\n",
       "      <th>189</th>\n",
       "      <th>190</th>\n",
       "      <th>191</th>\n",
       "      <th>192</th>\n",
       "    </tr>\n",
       "  </thead>\n",
       "  <tbody>\n",
       "    <tr>\n",
       "      <th>0</th>\n",
       "      <td>-410.918238</td>\n",
       "      <td>53.115807</td>\n",
       "      <td>43.695562</td>\n",
       "      <td>39.560864</td>\n",
       "      <td>0.385357</td>\n",
       "      <td>17.088285</td>\n",
       "      <td>5.902837</td>\n",
       "      <td>17.623643</td>\n",
       "      <td>8.842536</td>\n",
       "      <td>14.6854</td>\n",
       "      <td>...</td>\n",
       "      <td>13.748482</td>\n",
       "      <td>13.397416</td>\n",
       "      <td>13.745993</td>\n",
       "      <td>31.191288</td>\n",
       "      <td>0.000597</td>\n",
       "      <td>-0.000262</td>\n",
       "      <td>0.024395</td>\n",
       "      <td>0.009039</td>\n",
       "      <td>-0.00367</td>\n",
       "      <td>0.000667</td>\n",
       "    </tr>\n",
       "  </tbody>\n",
       "</table>\n",
       "<p>1 rows × 193 columns</p>\n",
       "</div>"
      ],
      "text/plain": [
       "          0          1          2          3         4          5         6    \\\n",
       "0 -410.918238  53.115807  43.695562  39.560864  0.385357  17.088285  5.902837   \n",
       "\n",
       "         7         8        9      ...           183        184        185  \\\n",
       "0  17.623643  8.842536  14.6854    ...     13.748482  13.397416  13.745993   \n",
       "\n",
       "         186       187       188       189       190      191       192  \n",
       "0  31.191288  0.000597 -0.000262  0.024395  0.009039 -0.00367  0.000667  \n",
       "\n",
       "[1 rows x 193 columns]"
      ]
     },
     "execution_count": 49,
     "metadata": {},
     "output_type": "execute_result"
    }
   ],
   "source": [
    "X_1"
   ]
  },
  {
   "cell_type": "code",
   "execution_count": null,
   "metadata": {
    "collapsed": true
   },
   "outputs": [],
   "source": []
  }
 ],
 "metadata": {
  "kernelspec": {
   "display_name": "Python 3",
   "language": "python",
   "name": "python3"
  },
  "language_info": {
   "codemirror_mode": {
    "name": "ipython",
    "version": 3
   },
   "file_extension": ".py",
   "mimetype": "text/x-python",
   "name": "python",
   "nbconvert_exporter": "python",
   "pygments_lexer": "ipython3",
   "version": "3.6.3"
  }
 },
 "nbformat": 4,
 "nbformat_minor": 2
}
